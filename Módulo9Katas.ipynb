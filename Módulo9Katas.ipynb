{
  "cells": [
    {
      "cell_type": "markdown",
      "metadata": {},
      "source": [
        "# Kata 9\n",
        "## Ejercicio: Uso de funciones en Python"
      ]
    },
    {
      "cell_type": "markdown",
      "metadata": {},
      "source": [
        "### Ejercicio 1: Trabajar con argumentos en funciones\n",
        "\n",
        "Los argumentos requeridos en las funciones se utilizan cuando las funciones necesitan que esos argumentos funcionen correctamente. En este ejercicio, construirás un informe de combustible que requiere información de varias ubicaciones de combustible en todo el cohete.\n",
        "\n"
      ]
    },
    {
      "cell_type": "markdown",
      "metadata": {},
      "source": [
        "Comienza por crear una función que necesite tres lecturas de combustible y devuelva un informe:"
      ]
    },
    {
      "cell_type": "code",
      "execution_count": 6,
      "metadata": {},
      "outputs": [],
      "source": [
        "# Función para leer 3 tanques de combustible y muestre el promedio\n",
        "def informe(lectura1, lectura2, lectura3) :\n",
        "    promedio = (lectura1 + lectura2 + lectura3) / 3\n",
        "    return f\"\"\"Tanque 1: {lectura1}\n",
        "    Tanque 2: {lectura2}\n",
        "    Tanque 3: {lectura3}\n",
        "    Promedio: {promedio}\"\"\""
      ]
    },
    {
      "cell_type": "markdown",
      "metadata": {},
      "source": [
        "Ahora que hemos definido la función de informes, vamos a comprobarlo. Para esta misión, los tanques no están llenos:"
      ]
    },
    {
      "cell_type": "code",
      "execution_count": 7,
      "metadata": {},
      "outputs": [
        {
          "name": "stdout",
          "output_type": "stream",
          "text": [
            "Tanque 1: 0\n",
            "Tanque 2: 0\n",
            "Tanque 3: 0\n",
            "Promedio: 0.0\n"
          ]
        }
      ],
      "source": [
        "\n",
        "# Llamamos a la función que genera el reporte print(funcion(tanque1, tanque2, tanque3))\n",
        "print(informe(0, 0, 0))"
      ]
    },
    {
      "cell_type": "markdown",
      "metadata": {},
      "source": [
        "En lugar de simplemente crear el informe, la función también está calculando el promedio. Mejora la legibilidad extrayendo el cálculo promedio de la función en una nueva función para que el promedio se pueda hacer de forma independiente:"
      ]
    },
    {
      "cell_type": "code",
      "execution_count": 10,
      "metadata": {},
      "outputs": [],
      "source": [
        "# Función promedio\n",
        "def promedio(lectura1, lectura2, lectura3) :\n",
        "    promedio = (lectura1 + lectura2 + lectura3) / 3\n",
        "    return promedio"
      ]
    },
    {
      "cell_type": "markdown",
      "metadata": {},
      "source": [
        "Ahora actualiza la función de informes para llamando a la nueva función del promedio:\n"
      ]
    },
    {
      "cell_type": "code",
      "execution_count": 12,
      "metadata": {},
      "outputs": [
        {
          "name": "stdout",
          "output_type": "stream",
          "text": [
            "Tanque 1: 20\n",
            "Tanque 2: 50\n",
            "Tanque 3: 30\n",
            "Promedio: 33.333333333333336\n"
          ]
        }
      ],
      "source": [
        "# Actualiza la función\n",
        "def informe(lectura1, lectura2, lectura3) :\n",
        "    return f\"\"\"Tanque 1: {lectura1}\n",
        "    Tanque 2: {lectura2}\n",
        "    Tanque 3: {lectura3}\n",
        "    Promedio: {promedio(lectura1, lectura2, lectura3)}\"\"\"\n",
        "\n",
        "print(informe(20, 50, 30))"
      ]
    },
    {
      "cell_type": "markdown",
      "metadata": {},
      "source": [
        "## Ejercicio 2: Trabajo con argumentos de palabra clave"
      ]
    },
    {
      "cell_type": "markdown",
      "metadata": {},
      "source": [
        "### Ejercicio : Trabajar con argumentos de palabras clave en funciones\n",
        "En este ejercicio, construirás un informe de cohete que requiere varias piezas de información, como el tiempo hasta el destino, el combustible a la izquierda y el nombre del destino. Comienza por crear una función que creará un informe preciso de la misión:"
      ]
    },
    {
      "cell_type": "code",
      "execution_count": 17,
      "metadata": {},
      "outputs": [
        {
          "name": "stdout",
          "output_type": "stream",
          "text": [
            "Destino: Mercurio\n",
            "    Tiempo de tralado: 30\n",
            "    Combustible Actual: 80\n"
          ]
        }
      ],
      "source": [
        "# Función con un informe preciso de la misión. Considera hora de prelanzamiento, tiempo de vuelo, destino, tanque externo y tanque interno\n",
        "def reporte(tiempo_pre, tiempo_lanzamiento, destino, tanque_inter, tanque_exter) :\n",
        "    return f\"\"\"Destino: {destino}\n",
        "    Tiempo de tralado: {tiempo_pre + tiempo_lanzamiento}\n",
        "    Combustible Actual: {tanque_inter + tanque_exter}\"\"\"\n",
        "print(reporte(10, 20, 'Mercurio', 30, 50))"
      ]
    },
    {
      "cell_type": "markdown",
      "metadata": {},
      "source": [
        "La función es problemática porque no se puede adaptar para minutos adicionales o tanques adicionales de combustible. Hazlo más flexible permitiendo cualquier número de pasos basados en el tiempo y cualquier número de tanques. En lugar de usar `*args` y `**kwargs`, aprovecha el hecho de que puedes usar cualquier nombre que desees. Asegurate que la función sea más legible mediante el uso de nombres de variables que están asociados con las entradas, como `*minutes` y `**fuel_reservoirs`:"
      ]
    },
    {
      "cell_type": "code",
      "execution_count": 18,
      "metadata": {},
      "outputs": [
        {
          "name": "stdout",
          "output_type": "stream",
          "text": [
            "Destino: Mercurio\n",
            "    Tiempo de tralado: 30\n",
            "    Combustible Actual: 80\n"
          ]
        }
      ],
      "source": [
        "# Escribe tu nueva función de reporte considerando lo anterior\n",
        "def reporte(destino, *minutes, **fuel_reservoirs) :\n",
        "    return f\"\"\"Destino: {destino}\n",
        "    Tiempo de tralado: {sum(minutes)}\n",
        "    Combustible Actual: {sum(fuel_reservoirs.values())}\"\"\"\n",
        "print(reporte('Mercurio', 10, 20, interior = 30, exterior = 50))"
      ]
    },
    {
      "cell_type": "markdown",
      "metadata": {},
      "source": [
        "Debido a que el combustible que queda en los tanques es específico de cada tanque, actualiza la función para usar el nombre de cada tanque en el informe:"
      ]
    },
    {
      "cell_type": "code",
      "execution_count": 23,
      "metadata": {},
      "outputs": [
        {
          "name": "stdout",
          "output_type": "stream",
          "text": [
            "Destino: Mercurio\n",
            "    Tiempo de tralado: 30\n",
            "    Combustible Actual: 80\n",
            "    Combustible tanque interior: 30\n",
            "Combustible tanque exterior: 50\n",
            "\n"
          ]
        }
      ],
      "source": [
        "# Escribe tu nueva función\n",
        "def reporte(destino, *minutes, **fuel_reservoirs) :\n",
        "    reporte_final = f\"\"\"Destino: {destino}\n",
        "    Tiempo de tralado: {sum(minutes)}\n",
        "    Combustible Actual: {sum(fuel_reservoirs.values())}\n",
        "    \"\"\"\n",
        "    for tanque, combustible in fuel_reservoirs.items() :\n",
        "        reporte_final += f\"Combustible tanque {tanque}: {combustible}\\n\"\n",
        "    return reporte_final\n",
        "print(reporte('Mercurio', 10, 20, interior = 30, exterior = 50))"
      ]
    }
  ],
  "metadata": {
    "interpreter": {
      "hash": "205095b8b86ea82a021a8fc2ffba2b3bc9f8d0be25999901963b225939f75778"
    },
    "kernelspec": {
      "display_name": "Python 3.8.10 64-bit ('tmp': conda)",
      "name": "python3"
    },
    "language_info": {
      "codemirror_mode": {
        "name": "ipython",
        "version": 3
      },
      "file_extension": ".py",
      "mimetype": "text/x-python",
      "name": "python",
      "nbconvert_exporter": "python",
      "pygments_lexer": "ipython3",
      "version": "3.10.2"
    },
    "nteract": {
      "version": "nteract-front-end@1.0.0"
    },
    "orig_nbformat": 4
  },
  "nbformat": 4,
  "nbformat_minor": 2
}
